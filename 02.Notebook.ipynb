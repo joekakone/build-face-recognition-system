{
 "cells": [
  {
   "cell_type": "markdown",
   "metadata": {},
   "source": [
    "## Import packages"
   ]
  },
  {
   "cell_type": "code",
   "execution_count": 1,
   "metadata": {},
   "outputs": [],
   "source": [
    "import os\n",
    "import json\n",
    "import numpy as np\n",
    "import pandas as pd\n",
    "import tensorflow as tf\n",
    "from tensorflow import keras\n",
    "from annoy import AnnoyIndex"
   ]
  },
  {
   "cell_type": "code",
   "execution_count": 2,
   "metadata": {},
   "outputs": [
    {
     "data": {
      "text/plain": [
       "'2.4.1'"
      ]
     },
     "execution_count": 2,
     "metadata": {},
     "output_type": "execute_result"
    }
   ],
   "source": [
    "tf.__version__"
   ]
  },
  {
   "cell_type": "markdown",
   "metadata": {},
   "source": [
    "## Paths & Config"
   ]
  },
  {
   "cell_type": "code",
   "execution_count": 3,
   "metadata": {},
   "outputs": [],
   "source": [
    "RAW_DATA = \"./data/raw_data.csv\"\n",
    "MODEL_PATH = \"models/classifier.h5\"\n",
    "FEATURES_PATH = \"./models/features.npy\"\n",
    "MAPPING = \"./models/id_to_path.json\"\n",
    "ANNOY_PATH = \"./models/model.ann\"\n",
    "\n",
    "WIDTH = 150\n",
    "HEIGHT = 150\n",
    "\n",
    "BATCH_SIZE = 16\n",
    "\n",
    "TREES = 10"
   ]
  },
  {
   "cell_type": "markdown",
   "metadata": {},
   "source": [
    "## Prepare data & Extract features"
   ]
  },
  {
   "cell_type": "code",
   "execution_count": 4,
   "metadata": {},
   "outputs": [
    {
     "data": {
      "text/html": [
       "<div>\n",
       "<style scoped>\n",
       "    .dataframe tbody tr th:only-of-type {\n",
       "        vertical-align: middle;\n",
       "    }\n",
       "\n",
       "    .dataframe tbody tr th {\n",
       "        vertical-align: top;\n",
       "    }\n",
       "\n",
       "    .dataframe thead th {\n",
       "        text-align: right;\n",
       "    }\n",
       "</style>\n",
       "<table border=\"1\" class=\"dataframe\">\n",
       "  <thead>\n",
       "    <tr style=\"text-align: right;\">\n",
       "      <th></th>\n",
       "      <th>image</th>\n",
       "      <th>image_path</th>\n",
       "      <th>subject</th>\n",
       "      <th>mode</th>\n",
       "    </tr>\n",
       "  </thead>\n",
       "  <tbody>\n",
       "    <tr>\n",
       "      <th>0</th>\n",
       "      <td>subject04.centerlight.jpg</td>\n",
       "      <td>./data/yalefaces/subject04.centerlight.jpg</td>\n",
       "      <td>subject04</td>\n",
       "      <td>centerlight</td>\n",
       "    </tr>\n",
       "    <tr>\n",
       "      <th>1</th>\n",
       "      <td>subject09.centerlight.jpg</td>\n",
       "      <td>./data/yalefaces/subject09.centerlight.jpg</td>\n",
       "      <td>subject09</td>\n",
       "      <td>centerlight</td>\n",
       "    </tr>\n",
       "    <tr>\n",
       "      <th>2</th>\n",
       "      <td>subject04.sleepy.jpg</td>\n",
       "      <td>./data/yalefaces/subject04.sleepy.jpg</td>\n",
       "      <td>subject04</td>\n",
       "      <td>sleepy</td>\n",
       "    </tr>\n",
       "    <tr>\n",
       "      <th>3</th>\n",
       "      <td>subject09.sad.jpg</td>\n",
       "      <td>./data/yalefaces/subject09.sad.jpg</td>\n",
       "      <td>subject09</td>\n",
       "      <td>sad</td>\n",
       "    </tr>\n",
       "    <tr>\n",
       "      <th>4</th>\n",
       "      <td>subject06.normal.jpg</td>\n",
       "      <td>./data/yalefaces/subject06.normal.jpg</td>\n",
       "      <td>subject06</td>\n",
       "      <td>normal</td>\n",
       "    </tr>\n",
       "  </tbody>\n",
       "</table>\n",
       "</div>"
      ],
      "text/plain": [
       "                       image                                  image_path  \\\n",
       "0  subject04.centerlight.jpg  ./data/yalefaces/subject04.centerlight.jpg   \n",
       "1  subject09.centerlight.jpg  ./data/yalefaces/subject09.centerlight.jpg   \n",
       "2       subject04.sleepy.jpg       ./data/yalefaces/subject04.sleepy.jpg   \n",
       "3          subject09.sad.jpg          ./data/yalefaces/subject09.sad.jpg   \n",
       "4       subject06.normal.jpg       ./data/yalefaces/subject06.normal.jpg   \n",
       "\n",
       "     subject         mode  \n",
       "0  subject04  centerlight  \n",
       "1  subject09  centerlight  \n",
       "2  subject04       sleepy  \n",
       "3  subject09          sad  \n",
       "4  subject06       normal  "
      ]
     },
     "execution_count": 4,
     "metadata": {},
     "output_type": "execute_result"
    }
   ],
   "source": [
    "data = pd.read_csv(RAW_DATA)\n",
    "data.head()"
   ]
  },
  {
   "cell_type": "code",
   "execution_count": 5,
   "metadata": {},
   "outputs": [],
   "source": [
    "if os.path.exists(FEATURES_PATH):\n",
    "    # Load features\n",
    "    features = np.load(FEATURES_PATH)\n",
    "else:\n",
    "    # Restore model\n",
    "    encoder = keras.models.load_model(MODEL_PATH)\n",
    "    # Remove classifier top layer\n",
    "    encoder.pop()\n",
    "    # Create generator\n",
    "    generator = keras.preprocessing.image.ImageDataGenerator(\n",
    "        rescale=1./255\n",
    "    )\n",
    "    datagen = generator.flow_from_dataframe(\n",
    "        dataframe=data,\n",
    "        x_col=\"image_path\",\n",
    "        y_col=\"subject\",\n",
    "        target_size=(WIDTH, HEIGHT),\n",
    "        batch_size=BATCH_SIZE,\n",
    "        shuffle=False\n",
    "    )\n",
    "    # Extract features\n",
    "    features = encoder.predict(datagen)\n",
    "    # Save features\n",
    "    np.save(FEATURES_PATH, features)\n",
    "    # Map filenames\n",
    "    with open(MAPPING, \"w\") as f:\n",
    "        id_to_path = {i: filename for i, filename in enumerate(datagen.filenames)}\n",
    "        json.dump({\"feature_dim\": features.shape[-1], \"id_to_path\": id_to_path}, f, indent=4, ensure_ascii=False)"
   ]
  },
  {
   "cell_type": "markdown",
   "metadata": {},
   "source": [
    "## Modeling with ANNOY"
   ]
  },
  {
   "cell_type": "code",
   "execution_count": 6,
   "metadata": {},
   "outputs": [
    {
     "data": {
      "text/plain": [
       "True"
      ]
     },
     "execution_count": 6,
     "metadata": {},
     "output_type": "execute_result"
    }
   ],
   "source": [
    "t = AnnoyIndex(features.shape[-1], 'angular')\n",
    "# Add features\n",
    "for i in range(len(features)):\n",
    "    t.add_item(i, features[i])\n",
    "# Build tree\n",
    "t.build(TREES)\n",
    "# Save tree\n",
    "t.save(ANNOY_PATH)"
   ]
  }
 ],
 "metadata": {
  "kernelspec": {
   "display_name": "Python 3",
   "language": "python",
   "name": "python3"
  },
  "language_info": {
   "codemirror_mode": {
    "name": "ipython",
    "version": 3
   },
   "file_extension": ".py",
   "mimetype": "text/x-python",
   "name": "python",
   "nbconvert_exporter": "python",
   "pygments_lexer": "ipython3",
   "version": "3.8.8"
  }
 },
 "nbformat": 4,
 "nbformat_minor": 4
}
